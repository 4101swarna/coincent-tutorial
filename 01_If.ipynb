{
 "cells": [
  {
   "cell_type": "markdown",
   "metadata": {},
   "source": [
    "= vs =="
   ]
  },
  {
   "cell_type": "code",
   "execution_count": 1,
   "metadata": {},
   "outputs": [],
   "source": [
    "# '=' means Assignment\n",
    "a = 11 + 12\n"
   ]
  },
  {
   "cell_type": "code",
   "execution_count": 2,
   "metadata": {},
   "outputs": [
    {
     "data": {
      "text/plain": [
       "23"
      ]
     },
     "execution_count": 2,
     "metadata": {},
     "output_type": "execute_result"
    }
   ],
   "source": [
    "a"
   ]
  },
  {
   "cell_type": "code",
   "execution_count": 4,
   "metadata": {},
   "outputs": [
    {
     "data": {
      "text/plain": [
       "True"
      ]
     },
     "execution_count": 4,
     "metadata": {},
     "output_type": "execute_result"
    }
   ],
   "source": [
    "# '==' means Comparison\n",
    "\n",
    "a == 23"
   ]
  },
  {
   "cell_type": "code",
   "execution_count": null,
   "metadata": {},
   "outputs": [],
   "source": [
    "# '==' is case sensitive"
   ]
  },
  {
   "cell_type": "code",
   "execution_count": 5,
   "metadata": {},
   "outputs": [
    {
     "data": {
      "text/plain": [
       "True"
      ]
     },
     "execution_count": 5,
     "metadata": {},
     "output_type": "execute_result"
    }
   ],
   "source": [
    "23 == 23.0"
   ]
  },
  {
   "cell_type": "code",
   "execution_count": 6,
   "metadata": {},
   "outputs": [],
   "source": [
    "x = \"daman\"\n",
    "y = \"Daman\"\n",
    "\n"
   ]
  },
  {
   "cell_type": "code",
   "execution_count": 7,
   "metadata": {},
   "outputs": [
    {
     "data": {
      "text/plain": [
       "False"
      ]
     },
     "execution_count": 7,
     "metadata": {},
     "output_type": "execute_result"
    }
   ],
   "source": [
    "x == y"
   ]
  },
  {
   "cell_type": "code",
   "execution_count": 8,
   "metadata": {},
   "outputs": [
    {
     "data": {
      "text/plain": [
       "True"
      ]
     },
     "execution_count": 8,
     "metadata": {},
     "output_type": "execute_result"
    }
   ],
   "source": [
    "#Best Practice for Comparison\n",
    "#Always Convert both parties to same case\n",
    "\n",
    "x.lower() == y.lower()\n"
   ]
  },
  {
   "cell_type": "code",
   "execution_count": 9,
   "metadata": {},
   "outputs": [
    {
     "data": {
      "text/plain": [
       "False"
      ]
     },
     "execution_count": 9,
     "metadata": {},
     "output_type": "execute_result"
    }
   ],
   "source": [
    "'A'==65\n"
   ]
  },
  {
   "cell_type": "code",
   "execution_count": 10,
   "metadata": {},
   "outputs": [
    {
     "name": "stdout",
     "output_type": "stream",
     "text": [
      "True\n",
      "False\n"
     ]
    }
   ],
   "source": [
    "car = 'subaru'\n",
    "#print(\"Is car == 'subaru'? I predict True.\")\n",
    "print(car == 'subaru')\n",
    "#print(\"\\nIs car == 'audi'? I predict False.\")\n",
    "print(car == 'audi')"
   ]
  },
  {
   "cell_type": "markdown",
   "metadata": {},
   "source": [
    "INEQUALITY  !="
   ]
  },
  {
   "cell_type": "code",
   "execution_count": 11,
   "metadata": {},
   "outputs": [
    {
     "name": "stdout",
     "output_type": "stream",
     "text": [
      "True\n"
     ]
    }
   ],
   "source": [
    "x = \"daman\"\n",
    "y = \"Daman\"\n",
    "print(x != y)\n"
   ]
  },
  {
   "cell_type": "code",
   "execution_count": 12,
   "metadata": {},
   "outputs": [
    {
     "name": "stdout",
     "output_type": "stream",
     "text": [
      "False\n"
     ]
    }
   ],
   "source": [
    "x = \"daman\"\n",
    "y = \"daman\"\n",
    "print(x != y)\n"
   ]
  },
  {
   "cell_type": "code",
   "execution_count": 13,
   "metadata": {},
   "outputs": [
    {
     "name": "stdout",
     "output_type": "stream",
     "text": [
      "False\n"
     ]
    }
   ],
   "source": [
    "\n",
    "a = 15\n",
    "b = 15\n",
    "print(a != b)\n",
    "\n"
   ]
  },
  {
   "cell_type": "markdown",
   "metadata": {},
   "source": [
    "if condition:\n",
    "    do something\n",
    "    xyz\n",
    "    abc\n",
    "qwe"
   ]
  },
  {
   "cell_type": "markdown",
   "metadata": {},
   "source": [
    "At the heart of every if statement is an expression that can be evaluated as \n",
    "True or False and is called a conditional test.\n",
    "Python uses the values True and \n",
    "False to decide whether the code in an if statement should be executed.\n",
    "If a conditional test evaluates to True, Python executes the code following the if\n",
    "statement.\n",
    "If the test evaluates to False, Python ignores the code following \n",
    "the if statement"
   ]
  },
  {
   "cell_type": "code",
   "execution_count": null,
   "metadata": {},
   "outputs": [],
   "source": [
    "ans = 16\n",
    "if ans != 15:\n",
    "    print(\"Wrong Ans\")\n",
    "\n",
    "print(\"Result Declared\")\n",
    "print(\"Not linked to if\")"
   ]
  },
  {
   "cell_type": "code",
   "execution_count": null,
   "metadata": {},
   "outputs": [],
   "source": [
    "x = \"Daman\"\n",
    "\n",
    "if x== \"Daman\":\n",
    "    print(\"Yes\")\n",
    "    print(\"Statement 2 of If block\")\n",
    "\n",
    "print(\"Hi\")"
   ]
  },
  {
   "cell_type": "markdown",
   "metadata": {},
   "source": [
    "Checking Multiple Conditions"
   ]
  },
  {
   "cell_type": "markdown",
   "metadata": {},
   "source": [
    "Using AND\n"
   ]
  },
  {
   "cell_type": "code",
   "execution_count": 19,
   "metadata": {},
   "outputs": [
    {
     "name": "stdout",
     "output_type": "stream",
     "text": [
      "Ohho!!\n"
     ]
    }
   ],
   "source": [
    "fuel = True\n",
    "service = True\n",
    "money = False\n",
    "\n",
    "if fuel and service and money:\n",
    "    print(\"Yayy! We'll go on a vacation!\")  #--1\n",
    "\n",
    "print(\"Ohho!!\")                             #--2"
   ]
  },
  {
   "cell_type": "markdown",
   "metadata": {},
   "source": [
    "Using Or"
   ]
  },
  {
   "cell_type": "code",
   "execution_count": 20,
   "metadata": {},
   "outputs": [
    {
     "name": "stdout",
     "output_type": "stream",
     "text": [
      "Yayy! We'll go on a vacation!\n",
      "Go corona Go!!\n"
     ]
    }
   ],
   "source": [
    "Holiday = False\n",
    "Birthday = True\n",
    "\n",
    "if Holiday or Birthday:  \n",
    "    print(\"Yayy! We'll go on a vacation!\")\n",
    "    \n",
    "print(\"Go corona Go!!\")"
   ]
  },
  {
   "cell_type": "code",
   "execution_count": null,
   "metadata": {},
   "outputs": [],
   "source": [
    "age = 3\n",
    "marks = 60\n",
    "\n",
    "if age >= 18 or marks > 90 :\n",
    "    print(\"You would get a bike!!\")    ###---1\n",
    "    print(\"Hurray\")                    ###---2\n",
    "    \n",
    "    \n",
    "if age <= 18 or marks <=90:\n",
    "    print(\"You need to work harder to get a bike!!\") ###-3"
   ]
  },
  {
   "cell_type": "markdown",
   "metadata": {},
   "source": [
    "Checking if a Value is in a List\n"
   ]
  },
  {
   "cell_type": "code",
   "execution_count": 21,
   "metadata": {},
   "outputs": [
    {
     "name": "stdout",
     "output_type": "stream",
     "text": [
      "we have a cloth\n"
     ]
    }
   ],
   "source": [
    "luggage = [\"clothes\" , \"charger\" , \"shoes\"]\n",
    "\n",
    "\n",
    "x = \"clothes\"\n",
    "if  x in luggage:\n",
    "    print(\"we have a cloth\")"
   ]
  },
  {
   "cell_type": "markdown",
   "metadata": {},
   "source": [
    "Checking if a Value is not in a List"
   ]
  },
  {
   "cell_type": "code",
   "execution_count": 22,
   "metadata": {},
   "outputs": [
    {
     "name": "stdout",
     "output_type": "stream",
     "text": [
      "we do not have a novel\n",
      "WElcome\n"
     ]
    }
   ],
   "source": [
    "luggage = [\"clothes\" , \"charger\" , \"shoes\"]\n",
    "if  \"novel\"  not in luggage:\n",
    "    print(\"we do not have a novel\")\n",
    "    \n",
    "print(\"WElcome\")"
   ]
  },
  {
   "cell_type": "code",
   "execution_count": 24,
   "metadata": {},
   "outputs": [
    {
     "name": "stdout",
     "output_type": "stream",
     "text": [
      "Yes\n"
     ]
    }
   ],
   "source": [
    "s = \"Daman\"\n",
    "if \"a\" in s:\n",
    "    print(\"Yes\")"
   ]
  },
  {
   "cell_type": "markdown",
   "metadata": {},
   "source": [
    "IF STATEMENT"
   ]
  },
  {
   "cell_type": "markdown",
   "metadata": {},
   "source": [
    "if conditional_test:\n",
    "    do something"
   ]
  },
  {
   "cell_type": "code",
   "execution_count": null,
   "metadata": {},
   "outputs": [],
   "source": [
    "age = 18\n",
    "money = 900\n",
    "\n",
    "if age > 18:\n",
    "    print(\"Hurray! You can drive!! \")                    \n",
    "    print(\" We can add one more line over here\")         \n",
    "    \n",
    "    if money > 8000:\n",
    "                print(\"When are you planning a Ladhak ride!!\")   \n",
    "    else:\n",
    "        print(\"Earn some money\")  \n",
    "        \n",
    " \n",
    "else:\n",
    "    print(\"Wait to grow up!!\")                          \n",
    "    "
   ]
  },
  {
   "cell_type": "markdown",
   "metadata": {},
   "source": [
    "IF ElSE STATEMENT"
   ]
  },
  {
   "cell_type": "markdown",
   "metadata": {},
   "source": [
    "if conditional_test pass:\n",
    "    do something\n",
    "else:\n",
    "    do something else"
   ]
  },
  {
   "cell_type": "code",
   "execution_count": null,
   "metadata": {},
   "outputs": [],
   "source": [
    "if 8>9:\n",
    "    print(\"8 is greater\")\n",
    "else:\n",
    "    print(\"9 is greater\")\n",
    "    print(\"Else wins\")"
   ]
  },
  {
   "cell_type": "code",
   "execution_count": null,
   "metadata": {},
   "outputs": [],
   "source": [
    "age = 14\n",
    "money = True\n",
    "\n",
    "if age > 18:\n",
    "    print(\"Hurray! You can drive!! \")\n",
    "    print(\"When are you planning a Ladhak ride!!\")\n",
    "    \n",
    "else:\n",
    "    print(\"Be a pillion\")\n",
    "    if money:\n",
    "        print(\"Welcome\")"
   ]
  },
  {
   "cell_type": "markdown",
   "metadata": {},
   "source": [
    "IF ELIF ELSE STATEMENT"
   ]
  },
  {
   "cell_type": "markdown",
   "metadata": {},
   "source": [
    "if conditional_test pass:\n",
    "    do something\n",
    "elif:\n",
    "    do something else\n",
    "else:\n",
    "    by default"
   ]
  },
  {
   "cell_type": "code",
   "execution_count": null,
   "metadata": {},
   "outputs": [],
   "source": [
    "money = 500\n",
    "if money <4000:\n",
    "    print(\"Enjoy with your Landline!!\")\n",
    "elif money >4000:\n",
    "    print(\"Borrow money\")\n",
    "if money>130000:\n",
    "    print(\"Purchase Iphone!!\")\n",
    "elif money>13000:\n",
    "    print(\"Purchase Android!!\")\n",
    "elif money >4000:\n",
    "    print(\"Borrow money\")\n",
    "else:\n",
    "    print(\"Enjoy with your Landline!!\")\n"
   ]
  },
  {
   "cell_type": "code",
   "execution_count": null,
   "metadata": {
    "scrolled": true
   },
   "outputs": [],
   "source": [
    "money = 14000\n",
    "\n",
    "if money>130000:\n",
    "    print(\"Purchase Iphone!!\")\n",
    "elif money>13000:\n",
    "    print(\"Purchase Android!!\")\n",
    "elif money >4000:\n",
    "    print(\"Borrow money\")\n",
    "else:\n",
    "    print(\"Enjoy with your Landline!!\")\n",
    "\n",
    "    \n",
    "#you can have multiple elif and can also exclude else\n",
    "#  1 , 2 , 3 ,5 , 7, 8 ,\n",
    "\n"
   ]
  },
  {
   "cell_type": "code",
   "execution_count": null,
   "metadata": {},
   "outputs": [],
   "source": [
    "#Nested If\n",
    "\n",
    "num = -10\n",
    "\n",
    "if num >= 0:\n",
    "    if num == 0:\n",
    "        print(\"Zero\")\n",
    "    else:\n",
    "        print(\"Positive Number\")\n",
    "else:\n",
    "    print(\"Negative Number\")\n",
    "    "
   ]
  },
  {
   "cell_type": "code",
   "execution_count": null,
   "metadata": {},
   "outputs": [],
   "source": [
    "money = 50000\n",
    "\n",
    "if money>130000:\n",
    "    print(\"Purchase Iphone!!\")\n",
    "if money>13000 and money<=130000:\n",
    "    print(\"Purchase Android!!\")\n",
    "if money >4000 and money <=13000:\n",
    "    print(\"Borrow money\")\n",
    "else:\n",
    "    print(\"Enjoy with your Landline!!\")"
   ]
  },
  {
   "cell_type": "code",
   "execution_count": 26,
   "metadata": {},
   "outputs": [
    {
     "name": "stdout",
     "output_type": "stream",
     "text": [
      "['dance', 'singing', 'comedy']\n"
     ]
    }
   ],
   "source": [
    "#USING IF TO CHECK IF LIST IS EMPTY\n",
    "\n",
    "skills = [\"dance\" , \"singing\" , \"comedy\"]\n",
    "\n",
    "\n",
    "\n",
    "\n",
    "\n",
    "#skills =[]\n",
    "\n",
    "if skills:\n",
    "    print(skills)\n",
    "else:\n",
    "    print(\"You are such a useless person!!\")\n",
    "    "
   ]
  },
  {
   "cell_type": "code",
   "execution_count": 30,
   "metadata": {},
   "outputs": [
    {
     "name": "stdout",
     "output_type": "stream",
     "text": [
      "You are such a useless person!!\n"
     ]
    }
   ],
   "source": [
    "#To check if string is empty\n",
    "skills =[]\n",
    "if skills:\n",
    "    print(\"Skills is not an empty string\")\n",
    "else:\n",
    "    print(\"You are such a useless person!!\")"
   ]
  },
  {
   "cell_type": "code",
   "execution_count": null,
   "metadata": {},
   "outputs": [],
   "source": []
  },
  {
   "cell_type": "code",
   "execution_count": null,
   "metadata": {},
   "outputs": [],
   "source": [
    "cars = ['audi' , 'bmw' , 'toyota']\n",
    "\n",
    "for car in cars:\n",
    "    if car == 'bmw':\n",
    "        print(car.upper())\n",
    "    else:\n",
    "        print(car.title())"
   ]
  },
  {
   "cell_type": "code",
   "execution_count": 18,
   "metadata": {},
   "outputs": [],
   "source": [
    "# 0, None , False, empty variable  means Condition is False\n",
    "# Except these four, everything would be considered as True Condition\n",
    "\n",
    "if None:\n",
    "    print(\"None\")\n",
    "\n",
    "if 0:\n",
    "    print(\"None\")\n",
    "    \n",
    "\n",
    "if False:\n",
    "    print(\"None\")\n",
    "\n",
    "s = ''\n",
    "if s:\n",
    "    print(s)\n",
    "    \n"
   ]
  },
  {
   "cell_type": "code",
   "execution_count": 14,
   "metadata": {},
   "outputs": [
    {
     "name": "stdout",
     "output_type": "stream",
     "text": [
      "Welcome\n"
     ]
    }
   ],
   "source": [
    "if True:\n",
    "    print(\"Welcome\")\n"
   ]
  },
  {
   "cell_type": "code",
   "execution_count": 15,
   "metadata": {},
   "outputs": [
    {
     "name": "stdout",
     "output_type": "stream",
     "text": [
      "-1 is also a True condition\n"
     ]
    }
   ],
   "source": [
    "if -1:\n",
    "    print(\"-1 is also a True condition\")"
   ]
  },
  {
   "cell_type": "code",
   "execution_count": null,
   "metadata": {},
   "outputs": [],
   "source": []
  },
  {
   "cell_type": "markdown",
   "metadata": {},
   "source": [
    "#styling your if statement\n",
    "\n",
    "if age>4 ---#1\n",
    "if age > 4 ---#2\n",
    "\n",
    "2 looks better\n",
    "No change in any functionality but with spaces it looks better"
   ]
  },
  {
   "cell_type": "code",
   "execution_count": null,
   "metadata": {},
   "outputs": [],
   "source": [
    "s = {}\n",
    "if s:\n",
    "    print(s)"
   ]
  },
  {
   "cell_type": "code",
   "execution_count": null,
   "metadata": {},
   "outputs": [],
   "source": []
  }
 ],
 "metadata": {
  "kernelspec": {
   "display_name": "Python 3",
   "language": "python",
   "name": "python3"
  },
  "language_info": {
   "codemirror_mode": {
    "name": "ipython",
    "version": 3
   },
   "file_extension": ".py",
   "mimetype": "text/x-python",
   "name": "python",
   "nbconvert_exporter": "python",
   "pygments_lexer": "ipython3",
   "version": "3.8.5"
  }
 },
 "nbformat": 4,
 "nbformat_minor": 2
}

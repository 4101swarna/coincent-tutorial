{
 "cells": [
  {
   "cell_type": "markdown",
   "metadata": {},
   "source": [
    "Dictionaries"
   ]
  },
  {
   "cell_type": "markdown",
   "metadata": {},
   "source": [
    "1.) Constructing a Dictionary\n",
    "2.) Accessing objects from a dictionary\n",
    "3.) Nesting Dictionaries\n",
    "4.) Basic Dictionary Methods"
   ]
  },
  {
   "cell_type": "code",
   "execution_count": 1,
   "metadata": {},
   "outputs": [
    {
     "name": "stdout",
     "output_type": "stream",
     "text": [
      "<class 'dict'>\n"
     ]
    }
   ],
   "source": [
    "#creating dictionary\n",
    "my_dict = {'key1':'value1','key2':'value2'}\n",
    "marks = {'1' :10 , '2' :23 ,'3' :21}\n",
    "price = {\"Pen\" :20 ,\"Pencil\" :5}\n",
    "print(type(price))"
   ]
  },
  {
   "cell_type": "code",
   "execution_count": null,
   "metadata": {},
   "outputs": [],
   "source": [
    "#calling through keys\n",
    "my_dict['key2']  =\"Python\" \n",
    "my_dict"
   ]
  },
  {
   "cell_type": "code",
   "execution_count": null,
   "metadata": {},
   "outputs": [],
   "source": [
    "price[\"Pencil\"]"
   ]
  },
  {
   "cell_type": "code",
   "execution_count": null,
   "metadata": {},
   "outputs": [],
   "source": [
    "demo_dict = { 'a' : '10' , 'b' :20}"
   ]
  },
  {
   "cell_type": "code",
   "execution_count": null,
   "metadata": {},
   "outputs": [],
   "source": [
    "demo_dict['a'] =16\n",
    "demo_dict"
   ]
  },
  {
   "cell_type": "code",
   "execution_count": 12,
   "metadata": {},
   "outputs": [
    {
     "data": {
      "text/plain": [
       "20"
      ]
     },
     "execution_count": 12,
     "metadata": {},
     "output_type": "execute_result"
    }
   ],
   "source": [
    "#creating nested dictionary\n",
    "my_dict = {'key1':123,'key2':[12,23,33],'key3':{'a' : '10' , 'b' :20}}\n",
    "my_dict['key3']['b']"
   ]
  },
  {
   "cell_type": "code",
   "execution_count": 27,
   "metadata": {},
   "outputs": [
    {
     "data": {
      "text/plain": [
       "'Daman'"
      ]
     },
     "execution_count": 27,
     "metadata": {},
     "output_type": "execute_result"
    }
   ],
   "source": [
    "#Q : Print Daman\n",
    "\n",
    "my_dict = {'key1':123,'key2':[12,23,33],'key\\n3':{'a' : '10' , 'b' :[2 , 4 ,\"Daman\"]}}\n",
    "#my_dict['key3']['b'][-1]\n",
    "#my_dict['key3']['b'][2]\n",
    "my_dict['key\\n3']['b'] [2]\n",
    "\n"
   ]
  },
  {
   "cell_type": "code",
   "execution_count": null,
   "metadata": {},
   "outputs": [],
   "source": [
    "my_dict['key3']['b'][-1].upper()"
   ]
  },
  {
   "cell_type": "code",
   "execution_count": null,
   "metadata": {},
   "outputs": [],
   "source": [
    "my_dict['key2'][1]"
   ]
  },
  {
   "cell_type": "code",
   "execution_count": null,
   "metadata": {},
   "outputs": [],
   "source": [
    "#playing with nested dictionary\n",
    "my_dict['key3']\n",
    "my_dict['key3'][0]\n",
    "my_dict['key3'][0].upper()"
   ]
  },
  {
   "cell_type": "code",
   "execution_count": 4,
   "metadata": {},
   "outputs": [
    {
     "data": {
      "text/plain": [
       "dict_keys(['key1', 'key2', 'key3'])"
      ]
     },
     "execution_count": 4,
     "metadata": {},
     "output_type": "execute_result"
    }
   ],
   "source": [
    "# Create a typical dictionary\n",
    "d = {'key1':1,'key2':2,'key3':3}\n",
    "# Method to return a list of all keys d.keys()\n",
    "d.keys()\n",
    "#d['key1'] = 2\n"
   ]
  },
  {
   "cell_type": "code",
   "execution_count": 5,
   "metadata": {},
   "outputs": [
    {
     "data": {
      "text/plain": [
       "dict_values([1, 2, 3])"
      ]
     },
     "execution_count": 5,
     "metadata": {},
     "output_type": "execute_result"
    }
   ],
   "source": [
    "# Method to grab all values\n",
    "d.values()"
   ]
  },
  {
   "cell_type": "code",
   "execution_count": 6,
   "metadata": {},
   "outputs": [
    {
     "data": {
      "text/plain": [
       "dict_items([('key1', 1), ('key2', 2), ('key3', 3)])"
      ]
     },
     "execution_count": 6,
     "metadata": {},
     "output_type": "execute_result"
    }
   ],
   "source": [
    "# Method to return tuples of all items\n",
    "d.items()"
   ]
  },
  {
   "cell_type": "code",
   "execution_count": 7,
   "metadata": {},
   "outputs": [
    {
     "name": "stdout",
     "output_type": "stream",
     "text": [
      "dict_keys(['c1', 'c2', 'c3'])\n",
      "dict_values([13, 15, 17])\n",
      "dict_items([('c1', 13), ('c2', 15), ('c3', 17)])\n"
     ]
    }
   ],
   "source": [
    "cell = { 'c1' : 13 , 'c2' :15 , 'c3' :17} \n",
    "print(cell.keys())\n",
    "print(cell.values())\n",
    "print(cell.items())"
   ]
  },
  {
   "cell_type": "code",
   "execution_count": 10,
   "metadata": {},
   "outputs": [
    {
     "data": {
      "text/plain": [
       "13"
      ]
     },
     "execution_count": 10,
     "metadata": {},
     "output_type": "execute_result"
    }
   ],
   "source": [
    "cell['c1']"
   ]
  },
  {
   "cell_type": "code",
   "execution_count": null,
   "metadata": {},
   "outputs": [],
   "source": []
  },
  {
   "cell_type": "code",
   "execution_count": null,
   "metadata": {},
   "outputs": [],
   "source": []
  },
  {
   "cell_type": "code",
   "execution_count": null,
   "metadata": {},
   "outputs": [],
   "source": []
  },
  {
   "cell_type": "code",
   "execution_count": 3,
   "metadata": {},
   "outputs": [],
   "source": [
    "#Q - create a dict storing name and roll no of 3 students\n",
    "#roll no - key - 1,2,3\n",
    "#name -value - a,b , c\n",
    "\n",
    "#dict -->curly brackets\n",
    "#keys -->string\n",
    "\n",
    "student = {'1' :'a' ,\n",
    "           '2' :'b',\n",
    "           '3' :'c'}"
   ]
  },
  {
   "cell_type": "code",
   "execution_count": null,
   "metadata": {},
   "outputs": [],
   "source": [
    "#Q - create a dict storing no of reps u have done for each exercise in gym today\n",
    "#name of exercise - key - a , b , c\n",
    "#no of reps -value - 1 , 2 ,3\n",
    "\n",
    "#dict -->curly brackets\n",
    "#keys -->string\n",
    "gym = {'a' :1,\n",
    "       'b' :2,\n",
    "       'c' :3}"
   ]
  }
 ],
 "metadata": {
  "kernelspec": {
   "display_name": "Python 3",
   "language": "python",
   "name": "python3"
  },
  "language_info": {
   "codemirror_mode": {
    "name": "ipython",
    "version": 3
   },
   "file_extension": ".py",
   "mimetype": "text/x-python",
   "name": "python",
   "nbconvert_exporter": "python",
   "pygments_lexer": "ipython3",
   "version": "3.8.5"
  }
 },
 "nbformat": 4,
 "nbformat_minor": 2
}

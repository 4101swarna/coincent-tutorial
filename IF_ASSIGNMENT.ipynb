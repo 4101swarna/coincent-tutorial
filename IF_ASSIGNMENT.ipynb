{
 "cells": [
  {
   "cell_type": "markdown",
   "metadata": {},
   "source": [
    "IF-ELSE SOLUTION"
   ]
  },
  {
   "cell_type": "markdown",
   "metadata": {},
   "source": [
    "5-3. Alien Colors #1: Imagine an alien was just shot down in a game. Create a \n",
    "variable called alien_color and assign it a value of 'green', 'yellow', or 'red'.\n",
    "•\t Write an if statement to test whether the alien’s color is green. If it is, print \n",
    "a message that the player just earned 5 points.\n",
    "•\t Write one version of this program that passes the if test and another that \n",
    "fails. (The version that fails will have no output.)"
   ]
  },
  {
   "cell_type": "code",
   "execution_count": 2,
   "metadata": {},
   "outputs": [],
   "source": [
    "alien_color ='red'\n",
    "\n",
    "if alien_color == 'green' :\n",
    "    print(\"Earned 5 points\")"
   ]
  },
  {
   "cell_type": "markdown",
   "metadata": {},
   "source": [
    "5-4. Alien Colors #2: Choose a color for an alien as you did in Exercise 5-3, and \n",
    "write an if-else chain.\n",
    "•\t If the alien’s color is green, print a statement that the player just earned \n",
    "5 points for shooting the alien.\n",
    "•\t If the alien’s color isn’t green, print a statement that the player just earned \n",
    "10 points.\n",
    "•\t Write one version of this program that runs the if block and another that \n",
    "runs the else block."
   ]
  },
  {
   "cell_type": "code",
   "execution_count": 4,
   "metadata": {},
   "outputs": [
    {
     "name": "stdout",
     "output_type": "stream",
     "text": [
      "Earned 10 points\n"
     ]
    }
   ],
   "source": [
    "alien_color ='red'\n",
    "\n",
    "if alien_color == 'green' :\n",
    "    print(\"Earned 5 points\")\n",
    "else:\n",
    "    print(\"Earned 10 points\")"
   ]
  },
  {
   "cell_type": "markdown",
   "metadata": {},
   "source": [
    "5-5. Alien Colors #3: Turn your if-else chain from Exercise 5-4 into an if-elif\u0002else chain.\n",
    "•\t If the alien is green, print a message that the player earned 5 points.\n",
    "•\t If the alien is yellow, print a message that the player earned 10 points.\n",
    "•\t If the alien is red, print a message that the player earned 15 points.\n",
    "•\t Write three versions of this program, making sure each message is printed \n",
    "for the appropriate color alien."
   ]
  },
  {
   "cell_type": "code",
   "execution_count": 6,
   "metadata": {},
   "outputs": [
    {
     "name": "stdout",
     "output_type": "stream",
     "text": [
      "Earned 15 points\n"
     ]
    }
   ],
   "source": [
    "alien_color ='red'\n",
    "\n",
    "if alien_color == 'green' :\n",
    "    print(\"Earned 5 points\")\n",
    "elif alien_color == 'yellow':\n",
    "    print(\"Earned 10 points\")\n",
    "elif alien_color == 'red' :\n",
    "    print(\"Earned 15 points\")"
   ]
  },
  {
   "cell_type": "markdown",
   "metadata": {},
   "source": [
    "5-6. Stages of Life: Write an if-elif-else chain that determines a person’s \n",
    "stage of life. Set a value for the variable age, and then:\n",
    "•\t If the person is less than 2 years old, print a message that the person is \n",
    "a baby.\n",
    "•\t If the person is at least 2 years old but less than 4, print a message that \n",
    "the person is a toddler.\n",
    "•\t If the person is at least 4 years old but less than 13, print a message that \n",
    "the person is a kid.\n",
    "•\t If the person is at least 13 years old but less than 20, print a message that \n",
    "the person is a teenager.\n",
    "•\t If the person is at least 20 years old but less than 65, print a message that \n",
    "the person is an adult.\n",
    "•\t If the person is age 65 or older, print a message that the person is an \n",
    "elder."
   ]
  },
  {
   "cell_type": "code",
   "execution_count": null,
   "metadata": {},
   "outputs": [],
   "source": [
    "age = 10\n",
    "\n",
    "if age < 2:\n",
    "    print(\"The person is baby\")\n",
    "elif age < 4:\n",
    "    print(\"The person is toddler\")\n",
    "elif age < 13:\n",
    "    print(\"The person is kid\")\n",
    "elif age < 20:\n",
    "    print(\"The person is an teenager\")\n",
    "elif age < 65:\n",
    "    print(\"The person is adult\")\n",
    "else:\n",
    "    print(\"The person is elder\")\n",
    "    \n"
   ]
  },
  {
   "cell_type": "markdown",
   "metadata": {},
   "source": [
    "5-7. Favorite Fruit: Make a list of your favorite fruits, and then write a series of \n",
    "independent if statements that check for certain fruits in your list.\n",
    "•\t Make a list of your three favorite fruits and call it favorite_fruits.\n",
    "•\t Write five if statements. Each should check whether a certain kind of fruit \n",
    "is in your list. If the fruit is in your list, the if block should print a statement, \n",
    "such as You really like bananas!"
   ]
  },
  {
   "cell_type": "code",
   "execution_count": 7,
   "metadata": {},
   "outputs": [
    {
     "name": "stdout",
     "output_type": "stream",
     "text": [
      "I really like Apple\n",
      "I really like Mango\n",
      "I really like Blueberries\n"
     ]
    }
   ],
   "source": [
    "favorite_fruits = [\"Apple\" , \"Mango\" , \"Blueberries\"]\n",
    "\n",
    "if \"Apple\" in favorite_fruits:\n",
    "    print(\"I really like Apple\")\n",
    "if \"Mango\" in favorite_fruits:\n",
    "    print(\"I really like Mango\")\n",
    "if \"Grapes\" in favorite_fruits:\n",
    "    print(\"I really like Grapes\")\n",
    "if \"Watermelon\" in favorite_fruits:\n",
    "    print(\"I really like Watermelon\")\n",
    "if \"Blueberries\" in favorite_fruits:\n",
    "    print(\"I really like Blueberries\")\n"
   ]
  },
  {
   "cell_type": "markdown",
   "metadata": {},
   "source": [
    "QUESTION 1 :WAP to take two int values from user and print greater among them."
   ]
  },
  {
   "cell_type": "code",
   "execution_count": 10,
   "metadata": {},
   "outputs": [
    {
     "name": "stdout",
     "output_type": "stream",
     "text": [
      "Enter the first number12\n",
      "Enter the second number12\n",
      "Both numbers are equal\n"
     ]
    }
   ],
   "source": [
    "first_num = int(input(\"Enter the first number\"))\n",
    "second_num = int(input(\"Enter the second number\"))\n",
    "\n",
    "if first_num > second_num :\n",
    "    print (\"First Number i.e \", first_num ,\" is greater\")\n",
    "elif second_num > first_num :\n",
    "    print (\"Second Number i.e \", second_num ,\" is greater\")\n",
    "else :\n",
    "    print(\"Both numbers are equal\")\n"
   ]
  },
  {
   "cell_type": "markdown",
   "metadata": {},
   "source": [
    "QUESTION 2:WAP to take values of length and breadth of a rectangle from user and check if it is square or not."
   ]
  },
  {
   "cell_type": "code",
   "execution_count": 12,
   "metadata": {},
   "outputs": [
    {
     "name": "stdout",
     "output_type": "stream",
     "text": [
      "Enter length12\n",
      "Enter Breadth12\n",
      "Yes , it's a square!!\n"
     ]
    }
   ],
   "source": [
    "length = int(input(\"Enter length\"))\n",
    "breadth = int(input(\"Enter Breadth\"))\n",
    "\n",
    "if length == breadth :\n",
    "    print(\"Yes , it's a square!!\")\n",
    "else:\n",
    "    print(\"No , it isn't a square!!\")"
   ]
  },
  {
   "cell_type": "markdown",
   "metadata": {},
   "source": [
    "QUESTION 3: A shop will give discount of 15% if the cost of purchased quantity is more than 1000.\n",
    "Ask user for quantity\n",
    "Suppose, one unit will cost 100.\n",
    "Judge and print total cost for user."
   ]
  },
  {
   "cell_type": "code",
   "execution_count": 15,
   "metadata": {},
   "outputs": [
    {
     "name": "stdout",
     "output_type": "stream",
     "text": [
      "Enter the quantity11\n",
      "The cost is  935.0\n"
     ]
    }
   ],
   "source": [
    "quantity = int(input(\"Enter the quantity\"))\n",
    "\n",
    "amount = quantity *100\n",
    "\n",
    "if amount > 1000 :\n",
    "    print(\"The cost is \" , amount *0.85)\n",
    "else:\n",
    "    print(\"The cost is \" , amount)\n",
    "    "
   ]
  },
  {
   "cell_type": "markdown",
   "metadata": {},
   "source": [
    "QUESTION 4: A company decided to give bonus of 5% to employee if his/her year of service is more than 5 years.\n",
    "Ask user for their salary and year of service and print the net bonus amount.\n"
   ]
  },
  {
   "cell_type": "code",
   "execution_count": 17,
   "metadata": {},
   "outputs": [
    {
     "name": "stdout",
     "output_type": "stream",
     "text": [
      "Enter your exp in years2\n",
      "No bonus\n"
     ]
    }
   ],
   "source": [
    "year_of_service = int(input(\"Enter your exp in years\"))\n",
    "\n",
    "if year_of_service >5 :\n",
    "    sal = int(input(\"Enter your salary\"))\n",
    "    print(\"Your bonus is \" , 0.05*sal)\n",
    "else:\n",
    "    print(\"No bonus\")"
   ]
  },
  {
   "cell_type": "markdown",
   "metadata": {},
   "source": [
    "QUESTION 5 :\n",
    "A school has following rules for grading system:\n",
    "a. Below 25 - F\n",
    "b. 25 to 45 - E\n",
    "c. 45 to 50 - D\n",
    "d. 50 to 60 - C\n",
    "e. 60 to 80 - B\n",
    "f. Above 80 - A\n",
    "Ask user to enter marks and print the corresponding grade."
   ]
  },
  {
   "cell_type": "code",
   "execution_count": null,
   "metadata": {},
   "outputs": [],
   "source": [
    "marks = int(input(\"Enter your marks\"))\n",
    "if marks > 80 :\n",
    "    print(\"A Grade!!\")\n",
    "elif marks > 60 :\n",
    "    print(\"B Grade!!\")\n",
    "elif marks > 50 :\n",
    "    print(\"C Grade!!\")\n",
    "elif marks > 45 :\n",
    "    print(\"D Grade!!\")\n",
    "elif marks > 25 :\n",
    "    print(\"E Grade!!\")\n",
    "else:\n",
    "    print(\" F Grade!!\")"
   ]
  },
  {
   "cell_type": "markdown",
   "metadata": {},
   "source": [
    "QUESTION 6: Find the greatest number from 3 numbers"
   ]
  },
  {
   "cell_type": "code",
   "execution_count": 19,
   "metadata": {},
   "outputs": [
    {
     "name": "stdout",
     "output_type": "stream",
     "text": [
      "Enter the first number1\n",
      "Enter the second number1\n",
      "Enter the third number1\n",
      "All numbers are equal\n"
     ]
    }
   ],
   "source": [
    "first_num = int(input(\"Enter the first number\"))\n",
    "second_num = int(input(\"Enter the second number\"))\n",
    "third_num = int(input(\"Enter the third number\"))\n",
    "\n",
    "\n",
    "if first_num > second_num :\n",
    "    if first_num > third_num :\n",
    "        print (\"First Number i.e \", first_num ,\" is greater\")\n",
    "else :\n",
    "    if second_num > third_num :\n",
    "        print (\"Second Number i.e \", second_num , \"is greatest\")\n",
    "    elif third_num > second_num :\n",
    "        print (\" Third Number i.e \" , third_num , \"is greatest\" )\n",
    "    else:\n",
    "        print(\"All numbers are equal\")"
   ]
  },
  {
   "cell_type": "code",
   "execution_count": null,
   "metadata": {},
   "outputs": [],
   "source": [
    "#SIMPLE VERSION OF ABOVE QUESTION 6\n",
    "first_num = int(input(\"Enter the first number\"))\n",
    "second_num = int(input(\"Enter the second number\"))\n",
    "third_num = int(input(\"Enter the third number\"))\n",
    "\n",
    "if first_num > second_num and first_num > third_num:\n",
    "    print (\"First Number i.e \", first_num ,\" is greater\")\n",
    "elif second_num > first_num and second_num > third_num:\n",
    "     print (\"Second Number i.e \", second_num , \"is greatest\")\n",
    "elif third_num > first_num and third_num > second_num :\n",
    "    print (\" Third Number i.e \" , third_num , \"is greatest\" )\n",
    "else:\n",
    "        print(\"All numbers are equal\")\n",
    "    \n",
    "\n",
    "    \n",
    "    "
   ]
  },
  {
   "cell_type": "markdown",
   "metadata": {},
   "source": [
    "QUESTION 7 :Write a program to print absolute vlaue of a number entered by user. E.g.-\n",
    "INPUT: 1        OUTPUT: 1\n",
    "INPUT: -1        OUTPUT: 1"
   ]
  },
  {
   "cell_type": "code",
   "execution_count": 21,
   "metadata": {},
   "outputs": [
    {
     "name": "stdout",
     "output_type": "stream",
     "text": [
      "Enter the number -3\n",
      "The absolute value is  3\n"
     ]
    }
   ],
   "source": [
    "num = int(input(\"Enter the number \"))\n",
    "\n",
    "if num < 0:\n",
    "    print(\"The absolute value is \", num *-1 )\n",
    "else:\n",
    "    print(\"The absolute value is \" , num)"
   ]
  },
  {
   "cell_type": "code",
   "execution_count": null,
   "metadata": {},
   "outputs": [],
   "source": []
  }
 ],
 "metadata": {
  "kernelspec": {
   "display_name": "Python 3",
   "language": "python",
   "name": "python3"
  },
  "language_info": {
   "codemirror_mode": {
    "name": "ipython",
    "version": 3
   },
   "file_extension": ".py",
   "mimetype": "text/x-python",
   "name": "python",
   "nbconvert_exporter": "python",
   "pygments_lexer": "ipython3",
   "version": "3.8.5"
  }
 },
 "nbformat": 4,
 "nbformat_minor": 4
}

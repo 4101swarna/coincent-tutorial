{
 "cells": [
  {
   "cell_type": "markdown",
   "metadata": {},
   "source": [
    "WHILE LOOP\n",
    "\n"
   ]
  },
  {
   "cell_type": "markdown",
   "metadata": {},
   "source": [
    "The for loop takes a collection of items and executes a block of code once \n",
    "for each item in the collection. \n",
    "In contrast, the while loop runs as long as, \n",
    "or while, a certain condition is true."
   ]
  },
  {
   "cell_type": "markdown",
   "metadata": {},
   "source": [
    "while test_expression:\n",
    "    Body of while"
   ]
  },
  {
   "cell_type": "code",
   "execution_count": null,
   "metadata": {},
   "outputs": [],
   "source": [
    "current_number = 1\n",
    "while current_number <= 5:\n",
    " print(current_number)\n",
    " current_number += 1"
   ]
  },
  {
   "cell_type": "code",
   "execution_count": null,
   "metadata": {},
   "outputs": [],
   "source": [
    "age = 15\n",
    "while(age <= 18):\n",
    "    print(\"Wait for one more year. You are just\" + str(age) +\" years old!!\")\n",
    "    age +=1 #====age = age+1\n",
    "    \n",
    "print(\"Now you can drive!!\")"
   ]
  },
  {
   "cell_type": "code",
   "execution_count": null,
   "metadata": {},
   "outputs": [],
   "source": [
    "#if you forget incrementing condition\n",
    "age = 15\n",
    "while(age <= 18):\n",
    "    print(\"Wait for one more year. You are just\" + str(age) +\" years old!!\")\n",
    "    \n",
    "print(\"Now you can drive!!\")\n",
    "#infinite loop"
   ]
  },
  {
   "cell_type": "code",
   "execution_count": null,
   "metadata": {},
   "outputs": [],
   "source": [
    "#Letting User when to quit\n",
    "prompt = \"\\nTell me something, and I will repeat it back to you:\"\n",
    "prompt += \"\\nEnter 'quit' to end the program. \"\n",
    "message = \"\"\n",
    "while message != 'quit':\n",
    " message = input(prompt)\n",
    " print(message)\n"
   ]
  },
  {
   "cell_type": "markdown",
   "metadata": {},
   "source": [
    "WHILE LOOP WITH ELSE"
   ]
  },
  {
   "cell_type": "markdown",
   "metadata": {},
   "source": [
    "The else part is executed if the condition in while loop evaluates to False.\n",
    "The while loop can be terminated with a break statement.\n",
    "\n",
    "In such cases, the else part is ignored. Hence, the while loop's else part runs if no break occurs and the condition is false"
   ]
  },
  {
   "cell_type": "code",
   "execution_count": null,
   "metadata": {},
   "outputs": [],
   "source": [
    "days = [\"Sunday\" , \"Monday\" ,\"Tuesday\" ,\"Wednesday\" ,\"Thursday\" ,\"Friday\" ,\"Saturday\"]\n",
    "\n",
    "index = 0\n",
    "\n",
    "while index < len(days):\n",
    "    print(days[index])\n",
    "    index +=1\n",
    "    if index == 3:\n",
    "        break\n",
    "\n",
    "else:\n",
    "    print(\"Hurray! Week Completed \")"
   ]
  },
  {
   "cell_type": "code",
   "execution_count": null,
   "metadata": {},
   "outputs": [],
   "source": [
    "days = [\"Sunday\" , \"Monday\" ,\"Tuesday\" ,\"Wednesday\" ,\"Thursday\" ,\"Friday\" ,\"Saturday\"]\n",
    "\n",
    "index = 0\n",
    "\n",
    "while index < len(days):\n",
    "    if index ==3 :\n",
    "        pass\n",
    "        #break\n",
    "        \n",
    "    print(days[index])\n",
    "    index +=1\n",
    "\n",
    "else:\n",
    "    print(\"Hurray! Week Completed \")"
   ]
  },
  {
   "cell_type": "markdown",
   "metadata": {},
   "source": [
    "PROGRAM: To check if number is prime or not\n",
    "    "
   ]
  },
  {
   "cell_type": "code",
   "execution_count": null,
   "metadata": {},
   "outputs": [],
   "source": [
    "num = int(input(\"Enter the number\"))\n",
    "\n",
    "i = 2\n",
    "while i <= num/2:\n",
    "    if num % i == 0:\n",
    "        print(num , \"is not a prime number\")\n",
    "        break\n",
    "    i +=1\n",
    "else:\n",
    "    print(num, \"is a prime number\")\n",
    "    "
   ]
  },
  {
   "cell_type": "markdown",
   "metadata": {},
   "source": [
    "FOR LOOP WITH ELSE"
   ]
  },
  {
   "cell_type": "code",
   "execution_count": null,
   "metadata": {},
   "outputs": [],
   "source": [
    "days = [\"Sunday\" , \"Monday\" ,\"Tuesday\" ,\"Wednesday\" ,\"Thursday\" ,\"Friday\" ,\"Saturday\"]\n",
    "\n",
    "for day in days:\n",
    "    print(day)\n",
    "    \n",
    "\n",
    "else:\n",
    "    print(\"Hurray! Week Completed \")"
   ]
  },
  {
   "cell_type": "code",
   "execution_count": null,
   "metadata": {},
   "outputs": [],
   "source": [
    "days = [\"Sunday\" , \"Monday\" ,\"Tuesday\" ,\"Wednesday\" ,\"Thursday\" ,\"Friday\" ,\"Saturday\"]\n",
    "\n",
    "for day in days:\n",
    "    if day == \"Tuesday\" :\n",
    "        break\n",
    "        \n",
    "    print(day)\n",
    "    \n",
    "\n",
    "else:\n",
    "    print(\"Hurray! Week Completed \")"
   ]
  },
  {
   "cell_type": "markdown",
   "metadata": {},
   "source": [
    "BREAK"
   ]
  },
  {
   "cell_type": "code",
   "execution_count": null,
   "metadata": {},
   "outputs": [],
   "source": [
    "lst = [1 ,2, 3 , 4 , 5]\n",
    "\n",
    "for num in lst:\n",
    "    if num == 3:\n",
    "        break\n",
    "    print(num)"
   ]
  },
  {
   "cell_type": "markdown",
   "metadata": {},
   "source": [
    "CONTINUE"
   ]
  },
  {
   "cell_type": "code",
   "execution_count": null,
   "metadata": {},
   "outputs": [],
   "source": [
    "lst = [1 ,2, 3 , 4 , 5]\n",
    "\n",
    "for num in lst:\n",
    "    if num == 3:\n",
    "        continue\n",
    "    print(num)"
   ]
  },
  {
   "cell_type": "markdown",
   "metadata": {},
   "source": [
    "FOR ELSE WITH BREAK"
   ]
  },
  {
   "cell_type": "code",
   "execution_count": null,
   "metadata": {},
   "outputs": [],
   "source": [
    "lst = [1 ,2, 3 , 4 , 5]\n",
    "\n",
    "for num in lst:\n",
    "    if num == 4:\n",
    "        break\n",
    "    print(num)\n",
    "else:\n",
    "    print(\"Else block\")"
   ]
  },
  {
   "cell_type": "markdown",
   "metadata": {},
   "source": [
    "FOR ELSE WITH CONTINUE"
   ]
  },
  {
   "cell_type": "code",
   "execution_count": null,
   "metadata": {},
   "outputs": [],
   "source": [
    "lst = [1 ,2, 3 , 4 , 5]\n",
    "\n",
    "for num in lst:\n",
    "    if num == 3:\n",
    "        continue\n",
    "    print(num)\n",
    "else:\n",
    "    print(\"Else block\")"
   ]
  },
  {
   "cell_type": "code",
   "execution_count": null,
   "metadata": {},
   "outputs": [],
   "source": []
  }
 ],
 "metadata": {
  "kernelspec": {
   "display_name": "Python 3",
   "language": "python",
   "name": "python3"
  },
  "language_info": {
   "codemirror_mode": {
    "name": "ipython",
    "version": 3
   },
   "file_extension": ".py",
   "mimetype": "text/x-python",
   "name": "python",
   "nbconvert_exporter": "python",
   "pygments_lexer": "ipython3",
   "version": "3.8.5"
  }
 },
 "nbformat": 4,
 "nbformat_minor": 2
}
